{
 "cells": [
  {
   "cell_type": "code",
   "execution_count": 2,
   "metadata": {
    "scrolled": false
   },
   "outputs": [
    {
     "name": "stdout",
     "output_type": "stream",
     "text": [
      "240\n"
     ]
    },
    {
     "ename": "FileNotFoundError",
     "evalue": "[Errno 2] No such file or directory: 'C:/Users/97250/Desktop/CognataCamera_ann/CognataCamera_ann/frame 0.txt'",
     "output_type": "error",
     "traceback": [
      "\u001b[1;31m---------------------------------------------------------------------------\u001b[0m",
      "\u001b[1;31mFileNotFoundError\u001b[0m                         Traceback (most recent call last)",
      "\u001b[1;32m<ipython-input-2-500f517f0c35>\u001b[0m in \u001b[0;36m<module>\u001b[1;34m\u001b[0m\n\u001b[0;32m     16\u001b[0m \u001b[1;33m\u001b[0m\u001b[0m\n\u001b[0;32m     17\u001b[0m \u001b[1;32mfor\u001b[0m \u001b[0mnumber\u001b[0m \u001b[1;32min\u001b[0m \u001b[0mrange\u001b[0m \u001b[1;33m(\u001b[0m\u001b[0ml\u001b[0m\u001b[1;33m)\u001b[0m\u001b[1;33m:\u001b[0m\u001b[1;33m\u001b[0m\u001b[1;33m\u001b[0m\u001b[0m\n\u001b[1;32m---> 18\u001b[1;33m     \u001b[0ma\u001b[0m\u001b[1;33m=\u001b[0m\u001b[0mopen\u001b[0m\u001b[1;33m(\u001b[0m\u001b[1;34m\"C:/Users/97250/Desktop/CognataCamera_ann/CognataCamera_ann/frame %d.txt\"\u001b[0m \u001b[1;33m%\u001b[0m\u001b[0mnumber\u001b[0m\u001b[1;33m,\u001b[0m\u001b[1;34m\"r\"\u001b[0m \u001b[1;33m)\u001b[0m\u001b[1;33m\u001b[0m\u001b[1;33m\u001b[0m\u001b[0m\n\u001b[0m\u001b[0;32m     19\u001b[0m     \u001b[0mprint\u001b[0m\u001b[1;33m(\u001b[0m\u001b[0ma\u001b[0m\u001b[1;33m)\u001b[0m\u001b[1;33m\u001b[0m\u001b[1;33m\u001b[0m\u001b[0m\n\u001b[0;32m     20\u001b[0m     \u001b[0mreader\u001b[0m\u001b[1;33m=\u001b[0m \u001b[0mcsv\u001b[0m\u001b[1;33m.\u001b[0m\u001b[0mreader\u001b[0m\u001b[1;33m(\u001b[0m\u001b[0ma\u001b[0m\u001b[1;33m)\u001b[0m\u001b[1;33m\u001b[0m\u001b[1;33m\u001b[0m\u001b[0m\n",
      "\u001b[1;31mFileNotFoundError\u001b[0m: [Errno 2] No such file or directory: 'C:/Users/97250/Desktop/CognataCamera_ann/CognataCamera_ann/frame 0.txt'"
     ]
    }
   ],
   "source": [
    "import os.path\n",
    "import csv\n",
    "import glob \n",
    "import pandas as pd\n",
    "\n",
    "#f = open(\"0000000033.csv\",\"r\")\n",
    "my_list=[]\n",
    "path = \"C:/Users/97250/Desktop/CognataCamera_ann/CognataCamera_ann/frame*.*\"\n",
    "omri_tomer = 0\n",
    "\n",
    "for file in glob.glob(path):\n",
    "    a=open(file)\n",
    "    my_list.append(a)\n",
    "l=len(my_list)\n",
    "print(l)\n",
    "\n",
    "for number in range (l):\n",
    "    a=open(\"C:/Users/97250/Desktop/CognataCamera_ann/CognataCamera_ann/frame %d.txt\" %number,\"r\" )\n",
    "    print(a)\n",
    "    reader= csv.reader(a)\n",
    "    #reader = csv.reader(f)\n",
    "    num=\"\"\n",
    "    x=\"object_class_name\"\n",
    "    y=\"bounding_box_2D\"\n",
    "    for row in reader:\n",
    "            labelname=row[7]\n",
    "            box=row[17]            \n",
    "            p=','\n",
    "            z='['\n",
    "            u=']'\n",
    "            if labelname != x:\n",
    "                num += labelname\n",
    "                num += \" \"\n",
    "            if box != y:\n",
    "                for i in box:\n",
    "                    if i!=p and i!=z and i!=u :\n",
    "                        num += i\n",
    "                num += \" \"\n",
    "                num += \"\\n\"\n",
    "            \n",
    "             \n",
    "    yy='C:/Users/97250/Desktop/mAP-master/ExtraxtCognataData/GroundTruth'\n",
    "    omri_tomer = omri_tomer +1\n",
    "    out_file= open(os.path.join(yy, \"frame %d.txt\" % omri_tomer ), \"w\")\n",
    "    print (out_file)\n",
    "    out_file.write(num)\n",
    "    \n",
    "\n",
    "\n",
    "\n",
    "\n",
    "        \n",
    "   \n",
    "\n",
    "print (row[6])\n",
    "\n",
    "\n",
    "\n",
    "            \n",
    "   \n"
   ]
  },
  {
   "cell_type": "code",
   "execution_count": null,
   "metadata": {},
   "outputs": [],
   "source": []
  },
  {
   "cell_type": "code",
   "execution_count": null,
   "metadata": {},
   "outputs": [],
   "source": []
  },
  {
   "cell_type": "code",
   "execution_count": null,
   "metadata": {},
   "outputs": [],
   "source": []
  },
  {
   "cell_type": "code",
   "execution_count": null,
   "metadata": {},
   "outputs": [],
   "source": []
  }
 ],
 "metadata": {
  "kernelspec": {
   "display_name": "Python 3",
   "language": "python",
   "name": "python3"
  },
  "language_info": {
   "codemirror_mode": {
    "name": "ipython",
    "version": 3
   },
   "file_extension": ".py",
   "mimetype": "text/x-python",
   "name": "python",
   "nbconvert_exporter": "python",
   "pygments_lexer": "ipython3",
   "version": "3.8.3"
  }
 },
 "nbformat": 4,
 "nbformat_minor": 4
}
